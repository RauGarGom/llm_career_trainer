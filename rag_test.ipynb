{
 "cells": [
  {
   "cell_type": "code",
   "execution_count": null,
   "metadata": {},
   "outputs": [],
   "source": [
    "#pip install \"unstructured[pdf]\""
   ]
  },
  {
   "cell_type": "code",
   "execution_count": 2,
   "metadata": {},
   "outputs": [],
   "source": [
    "import argparse\n",
    "from langchain_core.prompts import ChatPromptTemplate\n",
    "from langchain_groq import ChatGroq\n",
    "from langchain_core.messages import HumanMessage, SystemMessage\n",
    "from langchain_core.documents import Document\n",
    "from langchain_text_splitters import RecursiveCharacterTextSplitter\n",
    "from langchain.document_loaders import DirectoryLoader\n",
    "from langchain_huggingface import HuggingFaceEmbeddings\n",
    "from langchain_chroma import Chroma\n",
    "import getpass\n",
    "import os\n",
    "import model as md\n",
    "from dotenv import load_dotenv, find_dotenv"
   ]
  },
  {
   "cell_type": "code",
   "execution_count": 3,
   "metadata": {},
   "outputs": [
    {
     "name": "stderr",
     "output_type": "stream",
     "text": [
      "c:\\Users\\raulg\\AppData\\Local\\Programs\\Python\\Python312\\Lib\\site-packages\\tqdm\\auto.py:21: TqdmWarning: IProgress not found. Please update jupyter and ipywidgets. See https://ipywidgets.readthedocs.io/en/stable/user_install.html\n",
      "  from .autonotebook import tqdm as notebook_tqdm\n"
     ]
    },
    {
     "name": "stdout",
     "output_type": "stream",
     "text": [
      "WARNING:tensorflow:From c:\\Users\\raulg\\AppData\\Local\\Programs\\Python\\Python312\\Lib\\site-packages\\tf_keras\\src\\losses.py:2976: The name tf.losses.sparse_softmax_cross_entropy is deprecated. Please use tf.compat.v1.losses.sparse_softmax_cross_entropy instead.\n",
      "\n"
     ]
    }
   ],
   "source": [
    "load_dotenv(override=True)\n",
    "DATA_PATH = \"data/text_db/raw\"\n",
    "CHROMA_PATH = \"data/text_db/chroma\"\n",
    "chroma_db = None\n",
    "groq_api_key = os.getenv(\"GROQ_API_KEY\")\n",
    "model = ChatGroq(model=\"llama3-8b-8192\")\n",
    "\n",
    "### TODO: Some warnings from here and tensorflow usage. Check if something else can be done.\n",
    "embeddings = HuggingFaceEmbeddings(model_name=\"sentence-transformers/all-mpnet-base-v2\")\n",
    "\n",
    "### TODO: It doesn't read very well some characters. Try another pdf reader, such as llamaparse, pypdf2 or pdfplumber.\n",
    "def load_split_documents():\n",
    "    text_loader_kwargs={'autodetect_encoding': True}\n",
    "    loader = DirectoryLoader(DATA_PATH, glob=\"*.pdf\", loader_kwargs=text_loader_kwargs)\n",
    "    chunks = loader.load_and_split(RecursiveCharacterTextSplitter(chunk_size=1000, chunk_overlap=500, add_start_index=True)) ### We do the splitting in the same def as the loading.\n",
    "    return chunks"
   ]
  },
  {
   "cell_type": "code",
   "execution_count": 4,
   "metadata": {},
   "outputs": [
    {
     "data": {
      "text/plain": [
       "'Iteration – if we have 10,000 images as data and a batch size of 200. then an epoch should run 50 iterations (10,000 divided\\n\\nby 50).\\n\\nQ80. What Are the Di\\x00erent Layers on CNN?\\n\\nThere are four layers in CNN:\\n\\n1. Convolutional Layer – the layer that performs a convolutional operation, creating several smaller picture windows to go\\n\\nover the data.\\n\\n2. ReLU Layer – it brings non-linearity to the network and converts all the negative pixels to zero. The output is a recti\\x00ed\\n\\nfeature map.\\n\\n3. Pooling Layer – pooling is a down-sampling operation that reduces the dimensionality of the feature map.\\n\\n4. Fully Connected Layer – this layer recognizes and classi\\x00es the objects in the image.\\n\\nQ81. What Is Pooling on CNN, and How Does It Work?\\n\\nPooling is used to reduce the spatial dimensions of a CNN. It performs down-sampling operations to reduce the dimensionality\\n\\nand creates a pooled feature map by sliding a \\x00lter matrix over the input matrix.\\n\\nQ82. What are Recurrent Neural Networks(RNNs)?'"
      ]
     },
     "execution_count": 4,
     "metadata": {},
     "output_type": "execute_result"
    }
   ],
   "source": [
    "chunks = load_split_documents()\n",
    "chunks[100].page_content"
   ]
  },
  {
   "cell_type": "code",
   "execution_count": 5,
   "metadata": {},
   "outputs": [],
   "source": [
    "def chroma_create(chunks, embeddings):\n",
    "    print(\"Creating Chroma database...\")\n",
    "    chroma_db = Chroma.from_documents(chunks, embeddings, persist_directory=CHROMA_PATH)\n",
    "    print(f\"Saved {len(chunks)} to {CHROMA_PATH}\")\n",
    "    return chroma_db"
   ]
  },
  {
   "cell_type": "code",
   "execution_count": 12,
   "metadata": {},
   "outputs": [
    {
     "data": {
      "text/plain": [
       "False"
      ]
     },
     "execution_count": 12,
     "metadata": {},
     "output_type": "execute_result"
    }
   ],
   "source": [
    "os.path.isdir(\"data\\\\text_db\\\\chroma\\\\chroma.sqlite3\")"
   ]
  },
  {
   "cell_type": "code",
   "execution_count": 13,
   "metadata": {},
   "outputs": [
    {
     "data": {
      "text/plain": [
       "True"
      ]
     },
     "execution_count": 13,
     "metadata": {},
     "output_type": "execute_result"
    }
   ],
   "source": [
    "os.path.exists(CHROMA_PATH+'/chroma.sqlite3')"
   ]
  },
  {
   "cell_type": "code",
   "execution_count": 14,
   "metadata": {},
   "outputs": [],
   "source": [
    "def chroma_read(chunks, embeddings):\n",
    "    if os.path.exists(CHROMA_PATH+'/chroma.sqlite3') == True:\n",
    "        print(\"Local Chroma DB found. Reading Chroma database...\")\n",
    "        chroma_db = Chroma(persist_directory=CHROMA_PATH, embedding_function=embeddings)\n",
    "        print(\"Loaded Chroma DB from disk.\")\n",
    "    else:\n",
    "        print(\"Local Chroma DB not found. Creating Chroma database...\")\n",
    "        chroma_db = Chroma.from_documents(chunks, embeddings, persist_directory=CHROMA_PATH)\n",
    "        print(f\"Saved {len(chunks)} to {CHROMA_PATH}\")\n",
    "    return chroma_db"
   ]
  },
  {
   "cell_type": "code",
   "execution_count": 15,
   "metadata": {},
   "outputs": [
    {
     "name": "stdout",
     "output_type": "stream",
     "text": [
      "Local Chroma DB found. Reading Chroma database...\n",
      "Loaded Chroma DB from disk.\n"
     ]
    }
   ],
   "source": [
    "chroma_db = chroma_read(chunks, embeddings)"
   ]
  },
  {
   "cell_type": "code",
   "execution_count": null,
   "metadata": {},
   "outputs": [],
   "source": []
  },
  {
   "cell_type": "code",
   "execution_count": null,
   "metadata": {},
   "outputs": [],
   "source": [
    "query_text = \"What is Data Science? List the di􀃠erences between supervised and unsupervised learning.\" ### TODO: Change when turning into a function.\n",
    "results = chroma_db.similarity_search_with_relevance_scores(query_text, k=3)\n",
    "if len(results) == 0 or results[0][1] < 0.5: ### Change for more specific inputs\n",
    "    print(f\"Unable to find matching results for query: {query_text}\")\n",
    "context_text = \"\\n\\n---\\n\\n\".join([doc.page_content for doc, _score in results])\n",
    "print(query_text)\n",
    "print(\"=\"*50)\n",
    "print(context_text)"
   ]
  },
  {
   "cell_type": "code",
   "execution_count": 8,
   "metadata": {},
   "outputs": [
    {
     "data": {
      "text/plain": [
       "[(Document(metadata={'source': 'data\\\\text_db\\\\raw\\\\100_ds_interview_questions.pdf', 'start_index': 1060}, page_content='Deep Learning Interview Questions\\n\\nBefore moving ahead, you may go through the recording of Data Science Interview Questions where our instructor has shared\\n\\nhis experience and expertise that will help you to crack any Data Science.\\n\\nData Science Interview Questions | Edureka\\n\\nData Science Interview Questions | Data Science Tutorial | Data Science I Data Science Interview Questions | Data Science Tutorial | Data Science I\\n\\nBASIC DATA SCIENCE INTERVIEW QUESTIONS\\n\\nQ1. What is Data Science? List the di\\x00erences between supervised and unsupervised learning.\\n\\nData Science is a blend of various tools, algorithms, and machine learning principles with the goal to discover hidden patterns\\n\\nfrom the raw data. How is this di\\x00erent from what statisticians have been doing for years?\\n\\nThe answer lies in the di\\x00erence between explaining and predicting.\\n\\nThe di\\x00erences between supervised and unsupervised learning are as follows;'),\n",
       "  0.5493352128158051),\n",
       " (Document(metadata={'source': 'data\\\\text_db\\\\raw\\\\100_ds_interview_questions.pdf', 'start_index': 1060}, page_content='Deep Learning Interview Questions\\n\\nBefore moving ahead, you may go through the recording of Data Science Interview Questions where our instructor has shared\\n\\nhis experience and expertise that will help you to crack any Data Science.\\n\\nData Science Interview Questions | Edureka\\n\\nData Science Interview Questions | Data Science Tutorial | Data Science I Data Science Interview Questions | Data Science Tutorial | Data Science I\\n\\nBASIC DATA SCIENCE INTERVIEW QUESTIONS\\n\\nQ1. What is Data Science? List the di\\x00erences between supervised and unsupervised learning.\\n\\nData Science is a blend of various tools, algorithms, and machine learning principles with the goal to discover hidden patterns\\n\\nfrom the raw data. How is this di\\x00erent from what statisticians have been doing for years?\\n\\nThe answer lies in the di\\x00erence between explaining and predicting.\\n\\nThe di\\x00erences between supervised and unsupervised learning are as follows;'),\n",
       "  0.5493352128158051),\n",
       " (Document(metadata={'source': 'data\\\\text_db\\\\raw\\\\100_ds_interview_questions.pdf', 'start_index': 1487}, page_content='BASIC DATA SCIENCE INTERVIEW QUESTIONS\\n\\nQ1. What is Data Science? List the di\\x00erences between supervised and unsupervised learning.\\n\\nData Science is a blend of various tools, algorithms, and machine learning principles with the goal to discover hidden patterns\\n\\nfrom the raw data. How is this di\\x00erent from what statisticians have been doing for years?\\n\\nThe answer lies in the di\\x00erence between explaining and predicting.\\n\\nThe di\\x00erences between supervised and unsupervised learning are as follows;\\n\\nhttps://www.edureka.co/blog/interview-questions/data-science-interview-questions/\\n\\n\\ue921\\n\\n1/35\\n\\n20/4/2020\\n\\n100+ Data Science Interview Questions and Answers For 2020 | Edureka\\n\\nSupervised Learning\\n\\nUnsupervised Learning\\n\\nInput data is labelled.\\n\\nInput data is unlabelled.\\n\\nUses a training data set.\\n\\nUses the input data set.\\n\\nUsed for prediction.\\n\\nUsed for analysis.\\n\\nEnables classi\\x00cation and regression. Enables Classi\\x00cation, Density Estimation, & Dimension Reduction\\n\\nQ2. What is Selection Bias?'),\n",
       "  0.5425396235493026)]"
      ]
     },
     "execution_count": 8,
     "metadata": {},
     "output_type": "execute_result"
    }
   ],
   "source": [
    "results"
   ]
  },
  {
   "cell_type": "code",
   "execution_count": 19,
   "metadata": {},
   "outputs": [
    {
     "name": "stdout",
     "output_type": "stream",
     "text": [
      "Question:  What is Data Science? List the di􀃠erences between supervised and unsupervised learning.\n",
      "----------\n",
      "Data Science is a blend of various tools, algorithms, and machine learning principles with the goal to discover hidden patterns from the raw data. The differences between supervised and unsupervised learning are as follows:\n",
      "\n",
      "* Supervised Learning:\n",
      "\t+ Input data is labelled.\n",
      "\t+ Uses a training data set.\n",
      "\t+ Used for prediction.\n",
      "\t+ Enables classification and regression.\n",
      "* Unsupervised Learning:\n",
      "\t+ Input data is unlabelled.\n",
      "\t+ Uses the input data set.\n",
      "\t+ Used for analysis.\n",
      "\t+ Enables classification, density estimation, and dimension reduction.\n"
     ]
    }
   ],
   "source": [
    "Model = ChatGroq(model=\"llama3-8b-8192\")\n",
    "prompt_template = ChatPromptTemplate.from_template(\"\"\"\n",
    "Answer the question based only on the following context:\n",
    "\n",
    "{context}\n",
    "\n",
    "---\n",
    "\n",
    "Answer the question based on the above context: {question}\n",
    "\"\"\")\n",
    "prompt = prompt_template.format(context=context_text, question=query_text)\n",
    "response = model.invoke(prompt)\n",
    "print(\"Question: \",query_text)\n",
    "print(\"-\"*10)\n",
    "print(response.content)"
   ]
  },
  {
   "cell_type": "markdown",
   "metadata": {},
   "source": [
    "# Pruebas desde model.py"
   ]
  },
  {
   "cell_type": "code",
   "execution_count": 1,
   "metadata": {},
   "outputs": [],
   "source": [
    "import model as md"
   ]
  },
  {
   "cell_type": "code",
   "execution_count": 2,
   "metadata": {},
   "outputs": [
    {
     "name": "stdout",
     "output_type": "stream",
     "text": [
      "Setting up embeddings...\n"
     ]
    },
    {
     "name": "stderr",
     "output_type": "stream",
     "text": [
      "c:\\Users\\raulg\\AppData\\Local\\Programs\\Python\\Python312\\Lib\\site-packages\\tqdm\\auto.py:21: TqdmWarning: IProgress not found. Please update jupyter and ipywidgets. See https://ipywidgets.readthedocs.io/en/stable/user_install.html\n",
      "  from .autonotebook import tqdm as notebook_tqdm\n"
     ]
    },
    {
     "name": "stdout",
     "output_type": "stream",
     "text": [
      "WARNING:tensorflow:From c:\\Users\\raulg\\AppData\\Local\\Programs\\Python\\Python312\\Lib\\site-packages\\tf_keras\\src\\losses.py:2976: The name tf.losses.sparse_softmax_cross_entropy is deprecated. Please use tf.compat.v1.losses.sparse_softmax_cross_entropy instead.\n",
      "\n",
      "Local Chroma DB found. Reading Chroma database...\n",
      "Loaded Chroma DB from disk.\n"
     ]
    }
   ],
   "source": [
    "chroma_db = md.chroma_read()"
   ]
  }
 ],
 "metadata": {
  "kernelspec": {
   "display_name": "Python 3",
   "language": "python",
   "name": "python3"
  },
  "language_info": {
   "codemirror_mode": {
    "name": "ipython",
    "version": 3
   },
   "file_extension": ".py",
   "mimetype": "text/x-python",
   "name": "python",
   "nbconvert_exporter": "python",
   "pygments_lexer": "ipython3",
   "version": "3.12.5"
  }
 },
 "nbformat": 4,
 "nbformat_minor": 2
}
