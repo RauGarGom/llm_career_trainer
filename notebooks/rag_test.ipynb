{
 "cells": [
  {
   "cell_type": "code",
   "execution_count": 1,
   "metadata": {},
   "outputs": [],
   "source": [
    "#pip install \"unstructured[pdf]\""
   ]
  },
  {
   "cell_type": "code",
   "execution_count": 1,
   "metadata": {},
   "outputs": [],
   "source": [
    "# import argparse\n",
    "from langchain_core.prompts import ChatPromptTemplate\n",
    "from langchain_groq import ChatGroq\n",
    "# from langchain_core.messages import HumanMessage, SystemMessage\n",
    "# from langchain_core.documents import Document\n",
    "from langchain_text_splitters import RecursiveCharacterTextSplitter\n",
    "from langchain.document_loaders import DirectoryLoader\n",
    "from langchain_huggingface import HuggingFaceEmbeddings\n",
    "# from langchain_google_vertexai import VertexAIEmbeddings\n",
    "from langchain_cohere import CohereEmbeddings\n",
    "from langchain_chroma import Chroma\n",
    "# import getpass\n",
    "import os\n",
    "import model as md\n",
    "from dotenv import load_dotenv, find_dotenv\n",
    "import logging"
   ]
  },
  {
   "cell_type": "code",
   "execution_count": 2,
   "metadata": {},
   "outputs": [
    {
     "name": "stderr",
     "output_type": "stream",
     "text": [
      "c:\\Users\\raulg\\AppData\\Local\\Programs\\Python\\Python312\\Lib\\site-packages\\tqdm\\auto.py:21: TqdmWarning: IProgress not found. Please update jupyter and ipywidgets. See https://ipywidgets.readthedocs.io/en/stable/user_install.html\n",
      "  from .autonotebook import tqdm as notebook_tqdm\n"
     ]
    },
    {
     "name": "stdout",
     "output_type": "stream",
     "text": [
      "WARNING:tensorflow:From c:\\Users\\raulg\\AppData\\Local\\Programs\\Python\\Python312\\Lib\\site-packages\\tf_keras\\src\\losses.py:2976: The name tf.losses.sparse_softmax_cross_entropy is deprecated. Please use tf.compat.v1.losses.sparse_softmax_cross_entropy instead.\n",
      "\n"
     ]
    },
    {
     "ename": "",
     "evalue": "",
     "output_type": "error",
     "traceback": [
      "\u001b[1;31mThe Kernel crashed while executing code in the current cell or a previous cell. \n",
      "\u001b[1;31mPlease review the code in the cell(s) to identify a possible cause of the failure. \n",
      "\u001b[1;31mClick <a href='https://aka.ms/vscodeJupyterKernelCrash'>here</a> for more info. \n",
      "\u001b[1;31mView Jupyter <a href='command:jupyter.viewOutput'>log</a> for further details."
     ]
    }
   ],
   "source": [
    "load_dotenv(override=True)\n",
    "DATA_PATH = \"data/text_db/raw\"\n",
    "CHROMA_PATH = \"data/text_db/chroma_vertex\"\n",
    "chroma_db = None\n",
    "groq_api_key = os.getenv(\"GROQ_API_KEY\")\n",
    "cohere_api_key = os.getenv(\"COHERE_API_KEY\")\n",
    "model = ChatGroq(model=\"llama3-8b-8192\")\n",
    "# logging.basicConfig(level=logging.DEBUG)  # Nivel global\n",
    "# logger = logging.getLogger(\"chromadb\")    # Logger específico para Chroma\n",
    "# logger.setLevel(logging.DEBUG)\n",
    "\n",
    "### TODO: Some warnings from here and tensorflow usage. Check if something else can be done.\n",
    "# embeddings = CohereEmbeddings(model=\"embed-english-v3.0\")\n",
    "embeddings = HuggingFaceEmbeddings(model_name=\"sentence-transformers/all-mpnet-base-v2\")\n",
    "\n",
    "### TODO: It doesn't read very well some characters. Try another pdf reader, such as llamaparse, pypdf2 or pdfplumber.\n",
    "def load_split_documents():\n",
    "    text_loader_kwargs={'autodetect_encoding': True}\n",
    "    loader = DirectoryLoader(DATA_PATH, glob=\"*.pdf\", loader_kwargs=text_loader_kwargs)\n",
    "    chunks = loader.load_and_split(RecursiveCharacterTextSplitter(chunk_size=1000, chunk_overlap=500, add_start_index=True)) ### We do the splitting in the same def as the loading.\n",
    "    return chunks"
   ]
  },
  {
   "cell_type": "code",
   "execution_count": null,
   "metadata": {},
   "outputs": [
    {
     "name": "stdout",
     "output_type": "stream",
     "text": [
      "Local Chroma DB not found. Creating Chroma database...\n"
     ]
    }
   ],
   "source": [
    "### IT WORKS\n",
    "chunks = md.load_split_documents()\n",
    "chroma_db = md.chroma_read(chunks,embeddings)\n",
    "chunks[100].page_content"
   ]
  },
  {
   "cell_type": "code",
   "execution_count": 10,
   "metadata": {},
   "outputs": [
    {
     "data": {
      "text/plain": [
       "'Iteration – if we have 10,000 images as data and a batch size of 200. then an epoch should run 50 iterations (10,000 divided\\n\\nby 50).\\n\\nQ80. What Are the Di\\x00erent Layers on CNN?\\n\\nThere are four layers in CNN:\\n\\n1. Convolutional Layer – the layer that performs a convolutional operation, creating several smaller picture windows to go\\n\\nover the data.\\n\\n2. ReLU Layer – it brings non-linearity to the network and converts all the negative pixels to zero. The output is a recti\\x00ed\\n\\nfeature map.\\n\\n3. Pooling Layer – pooling is a down-sampling operation that reduces the dimensionality of the feature map.\\n\\n4. Fully Connected Layer – this layer recognizes and classi\\x00es the objects in the image.\\n\\nQ81. What Is Pooling on CNN, and How Does It Work?\\n\\nPooling is used to reduce the spatial dimensions of a CNN. It performs down-sampling operations to reduce the dimensionality\\n\\nand creates a pooled feature map by sliding a \\x00lter matrix over the input matrix.\\n\\nQ82. What are Recurrent Neural Networks(RNNs)?'"
      ]
     },
     "execution_count": 10,
     "metadata": {},
     "output_type": "execute_result"
    }
   ],
   "source": [
    "chunks = load_split_documents()\n",
    "chunks[100].page_content"
   ]
  },
  {
   "cell_type": "code",
   "execution_count": 11,
   "metadata": {},
   "outputs": [],
   "source": [
    "def chroma_create(chunks, embeddings):\n",
    "    print(\"Creating Chroma database...\")\n",
    "    chroma_db = Chroma.from_documents(chunks, embeddings, persist_directory=CHROMA_PATH)\n",
    "    print(f\"Saved {len(chunks)} to {CHROMA_PATH}\")\n",
    "    return chroma_db"
   ]
  },
  {
   "cell_type": "code",
   "execution_count": 5,
   "metadata": {},
   "outputs": [
    {
     "data": {
      "text/plain": [
       "False"
      ]
     },
     "execution_count": 5,
     "metadata": {},
     "output_type": "execute_result"
    }
   ],
   "source": [
    "os.path.exists(CHROMA_PATH+'/chroma.sqlite3')"
   ]
  },
  {
   "cell_type": "code",
   "execution_count": 12,
   "metadata": {},
   "outputs": [],
   "source": [
    "def chroma_read(chunks, embeddings):\n",
    "    if os.path.exists(CHROMA_PATH+'/chroma.sqlite3') == True:\n",
    "        print(\"Local Chroma DB found. Reading Chroma database...\")\n",
    "        chroma_db = Chroma(persist_directory=CHROMA_PATH, embedding_function=embeddings)\n",
    "        print(\"Loaded Chroma DB from disk.\")\n",
    "    else:\n",
    "        print(\"Local Chroma DB not found. Creating Chroma database...\")\n",
    "        chroma_db = Chroma.from_documents(chunks, embeddings, persist_directory=CHROMA_PATH)\n",
    "        print(f\"Saved {len(chunks)} to {CHROMA_PATH}\")\n",
    "    return chroma_db"
   ]
  },
  {
   "cell_type": "code",
   "execution_count": 13,
   "metadata": {},
   "outputs": [
    {
     "name": "stdout",
     "output_type": "stream",
     "text": [
      "Local Chroma DB found. Reading Chroma database...\n",
      "Loaded Chroma DB from disk.\n"
     ]
    }
   ],
   "source": [
    "chroma_db = chroma_read(chunks, embeddings)"
   ]
  },
  {
   "cell_type": "code",
   "execution_count": 16,
   "metadata": {},
   "outputs": [
    {
     "name": "stdout",
     "output_type": "stream",
     "text": [
      "What is Data Science? List the di􀃠erences between supervised and unsupervised learning.\n",
      "==================================================\n",
      "[Document(metadata={'source': 'data\\\\text_db\\\\raw\\\\100_ds_interview_questions.pdf', 'start_index': 1060}, page_content='Deep Learning Interview Questions\\n\\nBefore moving ahead, you may go through the recording of Data Science Interview Questions where our instructor has shared\\n\\nhis experience and expertise that will help you to crack any Data Science.\\n\\nData Science Interview Questions | Edureka\\n\\nData Science Interview Questions | Data Science Tutorial | Data Science I Data Science Interview Questions | Data Science Tutorial | Data Science I\\n\\nBASIC DATA SCIENCE INTERVIEW QUESTIONS\\n\\nQ1. What is Data Science? List the di\\x00erences between supervised and unsupervised learning.\\n\\nData Science is a blend of various tools, algorithms, and machine learning principles with the goal to discover hidden patterns\\n\\nfrom the raw data. How is this di\\x00erent from what statisticians have been doing for years?\\n\\nThe answer lies in the di\\x00erence between explaining and predicting.\\n\\nThe di\\x00erences between supervised and unsupervised learning are as follows;'), Document(metadata={'source': 'data\\\\text_db\\\\raw\\\\100_ds_interview_questions.pdf', 'start_index': 1487}, page_content='BASIC DATA SCIENCE INTERVIEW QUESTIONS\\n\\nQ1. What is Data Science? List the di\\x00erences between supervised and unsupervised learning.\\n\\nData Science is a blend of various tools, algorithms, and machine learning principles with the goal to discover hidden patterns\\n\\nfrom the raw data. How is this di\\x00erent from what statisticians have been doing for years?\\n\\nThe answer lies in the di\\x00erence between explaining and predicting.\\n\\nThe di\\x00erences between supervised and unsupervised learning are as follows;\\n\\nhttps://www.edureka.co/blog/interview-questions/data-science-interview-questions/\\n\\n\\ue921\\n\\n1/35\\n\\n20/4/2020\\n\\n100+ Data Science Interview Questions and Answers For 2020 | Edureka\\n\\nSupervised Learning\\n\\nUnsupervised Learning\\n\\nInput data is labelled.\\n\\nInput data is unlabelled.\\n\\nUses a training data set.\\n\\nUses the input data set.\\n\\nUsed for prediction.\\n\\nUsed for analysis.\\n\\nEnables classi\\x00cation and regression. Enables Classi\\x00cation, Density Estimation, & Dimension Reduction\\n\\nQ2. What is Selection Bias?'), Document(metadata={'source': 'data\\\\text_db\\\\raw\\\\100_ds_interview_questions.pdf', 'start_index': 28021}, page_content='related to computational statistics. Used to devise complex models and algorithms that lend themselves to a prediction which in\\n\\ncommercial use is known as predictive analytics. Given below, is an image representing the various domains Machine Learning\\n\\nlends itself to.\\n\\nhttps://www.edureka.co/blog/interview-questions/data-science-interview-questions/\\n\\n\\ue921\\n\\n12/35\\n\\n20/4/2020\\n\\n100+ Data Science Interview Questions and Answers For 2020 | Edureka\\n\\nQ41. What is Supervised Learning?\\n\\nSupervised learning is the machine learning task of inferring a function from labeled training data. The training data consist of a\\n\\nset of training examples.\\n\\nAlgorithms: Support Vector Machines, Regression, Naive Bayes, Decision Trees, K-nearest Neighbor Algorithm and Neural\\n\\nNetworks\\n\\nE.g. If you built a fruit classi\\x00er, the labels will be “this is an orange, this is an apple and this is a banana”, based on showing the\\n\\nclassi\\x00er examples of apples, oranges and bananas.\\n\\nQ42. What is Unsupervised learning?'), Document(metadata={'source': 'data\\\\text_db\\\\raw\\\\100_ds_interview_questions.pdf', 'start_index': 28635}, page_content='set of training examples.\\n\\nAlgorithms: Support Vector Machines, Regression, Naive Bayes, Decision Trees, K-nearest Neighbor Algorithm and Neural\\n\\nNetworks\\n\\nE.g. If you built a fruit classi\\x00er, the labels will be “this is an orange, this is an apple and this is a banana”, based on showing the\\n\\nclassi\\x00er examples of apples, oranges and bananas.\\n\\nQ42. What is Unsupervised learning?\\n\\nUnsupervised learning is a type of machine learning algorithm used to draw inferences from datasets consisting of input data\\n\\nwithout labelled responses.\\n\\nAlgorithms: Clustering, Anomaly Detection, Neural Networks and Latent Variable Models\\n\\nE.g. In the same example, a fruit clustering will categorize as “fruits with soft skin and lots of dimples”, “fruits with shiny hard skin”\\n\\nand “elongated yellow fruits”.\\n\\nQ43. What are the various classi\\x00cation algorithms?\\n\\nThe diagram lists the most important classi\\x00cation algorithms.\\n\\nhttps://www.edureka.co/blog/interview-questions/data-science-interview-questions/\\n\\n\\ue921')]\n"
     ]
    }
   ],
   "source": [
    "query_text = \"What is Data Science? List the di􀃠erences between supervised and unsupervised learning.\" ### TODO: Change when turning into a function.\n",
    "results = chroma_db.similarity_search(query_text)\n",
    "print(query_text)\n",
    "print(\"=\"*50)\n",
    "print(results)"
   ]
  },
  {
   "cell_type": "code",
   "execution_count": 8,
   "metadata": {},
   "outputs": [
    {
     "data": {
      "text/plain": [
       "[(Document(metadata={'source': 'data\\\\text_db\\\\raw\\\\100_ds_interview_questions.pdf', 'start_index': 1060}, page_content='Deep Learning Interview Questions\\n\\nBefore moving ahead, you may go through the recording of Data Science Interview Questions where our instructor has shared\\n\\nhis experience and expertise that will help you to crack any Data Science.\\n\\nData Science Interview Questions | Edureka\\n\\nData Science Interview Questions | Data Science Tutorial | Data Science I Data Science Interview Questions | Data Science Tutorial | Data Science I\\n\\nBASIC DATA SCIENCE INTERVIEW QUESTIONS\\n\\nQ1. What is Data Science? List the di\\x00erences between supervised and unsupervised learning.\\n\\nData Science is a blend of various tools, algorithms, and machine learning principles with the goal to discover hidden patterns\\n\\nfrom the raw data. How is this di\\x00erent from what statisticians have been doing for years?\\n\\nThe answer lies in the di\\x00erence between explaining and predicting.\\n\\nThe di\\x00erences between supervised and unsupervised learning are as follows;'),\n",
       "  0.5493352128158051),\n",
       " (Document(metadata={'source': 'data\\\\text_db\\\\raw\\\\100_ds_interview_questions.pdf', 'start_index': 1060}, page_content='Deep Learning Interview Questions\\n\\nBefore moving ahead, you may go through the recording of Data Science Interview Questions where our instructor has shared\\n\\nhis experience and expertise that will help you to crack any Data Science.\\n\\nData Science Interview Questions | Edureka\\n\\nData Science Interview Questions | Data Science Tutorial | Data Science I Data Science Interview Questions | Data Science Tutorial | Data Science I\\n\\nBASIC DATA SCIENCE INTERVIEW QUESTIONS\\n\\nQ1. What is Data Science? List the di\\x00erences between supervised and unsupervised learning.\\n\\nData Science is a blend of various tools, algorithms, and machine learning principles with the goal to discover hidden patterns\\n\\nfrom the raw data. How is this di\\x00erent from what statisticians have been doing for years?\\n\\nThe answer lies in the di\\x00erence between explaining and predicting.\\n\\nThe di\\x00erences between supervised and unsupervised learning are as follows;'),\n",
       "  0.5493352128158051),\n",
       " (Document(metadata={'source': 'data\\\\text_db\\\\raw\\\\100_ds_interview_questions.pdf', 'start_index': 1487}, page_content='BASIC DATA SCIENCE INTERVIEW QUESTIONS\\n\\nQ1. What is Data Science? List the di\\x00erences between supervised and unsupervised learning.\\n\\nData Science is a blend of various tools, algorithms, and machine learning principles with the goal to discover hidden patterns\\n\\nfrom the raw data. How is this di\\x00erent from what statisticians have been doing for years?\\n\\nThe answer lies in the di\\x00erence between explaining and predicting.\\n\\nThe di\\x00erences between supervised and unsupervised learning are as follows;\\n\\nhttps://www.edureka.co/blog/interview-questions/data-science-interview-questions/\\n\\n\\ue921\\n\\n1/35\\n\\n20/4/2020\\n\\n100+ Data Science Interview Questions and Answers For 2020 | Edureka\\n\\nSupervised Learning\\n\\nUnsupervised Learning\\n\\nInput data is labelled.\\n\\nInput data is unlabelled.\\n\\nUses a training data set.\\n\\nUses the input data set.\\n\\nUsed for prediction.\\n\\nUsed for analysis.\\n\\nEnables classi\\x00cation and regression. Enables Classi\\x00cation, Density Estimation, & Dimension Reduction\\n\\nQ2. What is Selection Bias?'),\n",
       "  0.5425396235493026)]"
      ]
     },
     "execution_count": 8,
     "metadata": {},
     "output_type": "execute_result"
    }
   ],
   "source": [
    "results"
   ]
  },
  {
   "cell_type": "code",
   "execution_count": 19,
   "metadata": {},
   "outputs": [
    {
     "name": "stdout",
     "output_type": "stream",
     "text": [
      "Question:  What is Data Science? List the di􀃠erences between supervised and unsupervised learning.\n",
      "----------\n",
      "Data Science is a blend of various tools, algorithms, and machine learning principles with the goal to discover hidden patterns from the raw data. The differences between supervised and unsupervised learning are as follows:\n",
      "\n",
      "* Supervised Learning:\n",
      "\t+ Input data is labelled.\n",
      "\t+ Uses a training data set.\n",
      "\t+ Used for prediction.\n",
      "\t+ Enables classification and regression.\n",
      "* Unsupervised Learning:\n",
      "\t+ Input data is unlabelled.\n",
      "\t+ Uses the input data set.\n",
      "\t+ Used for analysis.\n",
      "\t+ Enables classification, density estimation, and dimension reduction.\n"
     ]
    }
   ],
   "source": [
    "Model = ChatGroq(model=\"llama3-8b-8192\")\n",
    "prompt_template = ChatPromptTemplate.from_template(\"\"\"\n",
    "Answer the question based only on the following context:\n",
    "\n",
    "{context}\n",
    "\n",
    "---\n",
    "\n",
    "Answer the question based on the above context: {question}\n",
    "\"\"\")\n",
    "prompt = prompt_template.format(context=context_text, question=query_text)\n",
    "response = model.invoke(prompt)\n",
    "print(\"Question: \",query_text)\n",
    "print(\"-\"*10)\n",
    "print(response.content)"
   ]
  },
  {
   "cell_type": "markdown",
   "metadata": {},
   "source": [
    "# Pruebas desde model.py"
   ]
  },
  {
   "cell_type": "code",
   "execution_count": 1,
   "metadata": {},
   "outputs": [],
   "source": []
  },
  {
   "cell_type": "code",
   "execution_count": 3,
   "metadata": {},
   "outputs": [],
   "source": [
    "### TODO: does it work when it has to create a new chroma db?\n",
    "# chroma_db = md.chroma_read()\n",
    "current_question = \"What is Data Science? List the di􀃠erences between supervised and unsupervised learning.\""
   ]
  },
  {
   "cell_type": "code",
   "execution_count": 5,
   "metadata": {},
   "outputs": [
    {
     "name": "stdout",
     "output_type": "stream",
     "text": [
      "Searching for similar questions...\n",
      "Creating prompt...\n",
      "Making chain...\n",
      "Invoking explanation...\n",
      "Storing answer in SQL...\n",
      "**What is Data Science?**\n",
      "\n",
      "Data Science is a blend of various tools, algorithms, and machine learning principles with the goal to discover hidden patterns from raw data. It's different from what statisticians have been doing for years because data science focuses on predicting and discovering patterns, whereas statistics focuses on explaining and describing data.\n",
      "\n",
      "**Supervised Learning vs. Unsupervised Learning**\n",
      "\n",
      "In a job interview, it's essential to understand the differences between supervised and unsupervised learning, as they are fundamental concepts in data science.\n",
      "\n",
      "**Supervised Learning**\n",
      "\n",
      "* Input data is labelled, meaning the output variable is already known.\n",
      "* Uses a training data set to learn from.\n",
      "* Used for prediction, enabling classification and regression.\n",
      "* Examples: fruit classifier (e.g., \"this is an orange, this is an apple, and this is a banana\").\n",
      "\n",
      "**Unsupervised Learning**\n",
      "\n",
      "* Input data is unlabelled, meaning the output variable is unknown.\n",
      "* Uses the input data set to learn from.\n",
      "* Used for analysis, enabling classification, density estimation, and dimension reduction.\n",
      "* Examples: clustering similar customers based on their purchasing behavior.\n",
      "\n",
      "In summary, supervised learning is used when you have labelled data and want to make predictions, while unsupervised learning is used when you have unlabelled data and want to discover patterns or relationships.\n",
      "\n",
      "When answering this question in a job interview, you can highlight your understanding of the differences between supervised and unsupervised learning and provide examples of when each approach might be used.\n"
     ]
    }
   ],
   "source": [
    "expl = md.question_explanation(current_question,embeddings)\n",
    "print(expl)"
   ]
  },
  {
   "cell_type": "code",
   "execution_count": 2,
   "metadata": {},
   "outputs": [
    {
     "name": "stderr",
     "output_type": "stream",
     "text": [
      "c:\\Users\\raulg\\AppData\\Local\\Programs\\Python\\Python312\\Lib\\site-packages\\tqdm\\auto.py:21: TqdmWarning: IProgress not found. Please update jupyter and ipywidgets. See https://ipywidgets.readthedocs.io/en/stable/user_install.html\n",
      "  from .autonotebook import tqdm as notebook_tqdm\n"
     ]
    },
    {
     "name": "stdout",
     "output_type": "stream",
     "text": [
      "WARNING:tensorflow:From c:\\Users\\raulg\\AppData\\Local\\Programs\\Python\\Python312\\Lib\\site-packages\\tf_keras\\src\\losses.py:2976: The name tf.losses.sparse_softmax_cross_entropy is deprecated. Please use tf.compat.v1.losses.sparse_softmax_cross_entropy instead.\n",
      "\n",
      "Reading Chroma DB...\n",
      "Searching for similar questions...\n",
      "Creating prompt...\n",
      "Making chain...\n",
      "Invoking explanation...\n",
      "Storing answer in SQL...\n",
      "Based on the provided context, here is the answer:\n",
      "\n",
      "Data Science is a blend of various tools, algorithms, and machine learning principles with the goal to discover hidden patterns from the raw data. How is this different from what statisticians have been doing for years? The answer lies in the difference between explaining and predicting.\n",
      "\n",
      "The differences between supervised and unsupervised learning are:\n",
      "\n",
      "* Supervised Learning:\n",
      "\t+ Input data is labelled\n",
      "\t+ Uses a training data set\n",
      "\t+ Used for prediction\n",
      "\t+ Enables classification and regression\n",
      "* Unsupervised Learning:\n",
      "\t+ Input data is unlabelled\n",
      "\t+ Uses the input data set\n",
      "\t+ Used for analysis\n",
      "\t+ Enables classification, density estimation, and dimension reduction\n"
     ]
    }
   ],
   "source": [
    "# import argparse\n",
    "# from langchain_core.prompts import ChatPromptTemplate\n",
    "# from langchain_groq import ChatGroq\n",
    "# from langchain_core.messages import HumanMessage, SystemMessage\n",
    "# from langchain_core.documents import Document\n",
    "# from langchain_text_splitters import RecursiveCharacterTextSplitter\n",
    "# from langchain.document_loaders import DirectoryLoader\n",
    "from langchain_huggingface import HuggingFaceEmbeddings\n",
    "import model as md\n",
    "# from dotenv import load_dotenv, find_dotenv\n",
    "\n",
    "### TODO: does it work when it has to create a new chroma db?\n",
    "embeddings = HuggingFaceEmbeddings(model_name=\"sentence-transformers/all-mpnet-base-v2\")\n",
    "current_question = \"What is Data Science? List the di􀃠erences between supervised and unsupervised learning.\"\n",
    "expl,results = md.question_explanation(current_question,embeddings)\n",
    "print(expl)"
   ]
  },
  {
   "cell_type": "code",
   "execution_count": 3,
   "metadata": {},
   "outputs": [
    {
     "data": {
      "text/plain": [
       "[Document(id='9bb207ab-b098-4aa4-aa44-876b0c7bb3d7', metadata={'source': 'data\\\\text_db\\\\raw\\\\100_ds_interview_questions.pdf', 'start_index': 1060}, page_content='Deep Learning Interview Questions\\n\\nBefore moving ahead, you may go through the recording of Data Science Interview Questions where our instructor has shared\\n\\nhis experience and expertise that will help you to crack any Data Science.\\n\\nData Science Interview Questions | Edureka\\n\\nData Science Interview Questions | Data Science Tutorial | Data Science I Data Science Interview Questions | Data Science Tutorial | Data Science I\\n\\nBASIC DATA SCIENCE INTERVIEW QUESTIONS\\n\\nQ1. What is Data Science? List the di\\x00erences between supervised and unsupervised learning.\\n\\nData Science is a blend of various tools, algorithms, and machine learning principles with the goal to discover hidden patterns\\n\\nfrom the raw data. How is this di\\x00erent from what statisticians have been doing for years?\\n\\nThe answer lies in the di\\x00erence between explaining and predicting.\\n\\nThe di\\x00erences between supervised and unsupervised learning are as follows;'),\n",
       " Document(id='9b72b772-5fbe-4c87-bafe-7469304a4e1b', metadata={'source': 'data\\\\text_db\\\\raw\\\\100_ds_interview_questions.pdf', 'start_index': 1487}, page_content='BASIC DATA SCIENCE INTERVIEW QUESTIONS\\n\\nQ1. What is Data Science? List the di\\x00erences between supervised and unsupervised learning.\\n\\nData Science is a blend of various tools, algorithms, and machine learning principles with the goal to discover hidden patterns\\n\\nfrom the raw data. How is this di\\x00erent from what statisticians have been doing for years?\\n\\nThe answer lies in the di\\x00erence between explaining and predicting.\\n\\nThe di\\x00erences between supervised and unsupervised learning are as follows;\\n\\nhttps://www.edureka.co/blog/interview-questions/data-science-interview-questions/\\n\\n\\ue921\\n\\n1/35\\n\\n20/4/2020\\n\\n100+ Data Science Interview Questions and Answers For 2020 | Edureka\\n\\nSupervised Learning\\n\\nUnsupervised Learning\\n\\nInput data is labelled.\\n\\nInput data is unlabelled.\\n\\nUses a training data set.\\n\\nUses the input data set.\\n\\nUsed for prediction.\\n\\nUsed for analysis.\\n\\nEnables classi\\x00cation and regression. Enables Classi\\x00cation, Density Estimation, & Dimension Reduction\\n\\nQ2. What is Selection Bias?'),\n",
       " Document(id='63c3d61a-8b70-42b1-b16c-664386bcd0f6', metadata={'source': 'data\\\\text_db\\\\raw\\\\100_ds_interview_questions.pdf', 'start_index': 28021}, page_content='related to computational statistics. Used to devise complex models and algorithms that lend themselves to a prediction which in\\n\\ncommercial use is known as predictive analytics. Given below, is an image representing the various domains Machine Learning\\n\\nlends itself to.\\n\\nhttps://www.edureka.co/blog/interview-questions/data-science-interview-questions/\\n\\n\\ue921\\n\\n12/35\\n\\n20/4/2020\\n\\n100+ Data Science Interview Questions and Answers For 2020 | Edureka\\n\\nQ41. What is Supervised Learning?\\n\\nSupervised learning is the machine learning task of inferring a function from labeled training data. The training data consist of a\\n\\nset of training examples.\\n\\nAlgorithms: Support Vector Machines, Regression, Naive Bayes, Decision Trees, K-nearest Neighbor Algorithm and Neural\\n\\nNetworks\\n\\nE.g. If you built a fruit classi\\x00er, the labels will be “this is an orange, this is an apple and this is a banana”, based on showing the\\n\\nclassi\\x00er examples of apples, oranges and bananas.\\n\\nQ42. What is Unsupervised learning?')]"
      ]
     },
     "execution_count": 3,
     "metadata": {},
     "output_type": "execute_result"
    }
   ],
   "source": [
    "results"
   ]
  },
  {
   "cell_type": "code",
   "execution_count": 1,
   "metadata": {},
   "outputs": [],
   "source": [
    "from langchain_huggingface import HuggingFaceEmbeddings\n",
    "from langchain_chroma import Chroma\n",
    "import model as md\n"
   ]
  },
  {
   "cell_type": "code",
   "execution_count": 7,
   "metadata": {},
   "outputs": [],
   "source": [
    "CHROMA_PATH = \"data/text_db/chroma\"\n",
    "embeddings = HuggingFaceEmbeddings(model_name=\"sentence-transformers/all-mpnet-base-v2\")\n"
   ]
  },
  {
   "cell_type": "code",
   "execution_count": 8,
   "metadata": {},
   "outputs": [
    {
     "name": "stdout",
     "output_type": "stream",
     "text": [
      "Reading Chroma DB...\n",
      "Searching for similar questions...\n",
      "Creating prompt...\n",
      "Making chain...\n",
      "Invoking explanation...\n",
      "Storing answer in SQL...\n",
      "I apologize, but there is no context provided, so I cannot answer the question. The context is simply an empty list followed by a dash. Can you please provide more context or information so I can better understand and provide a helpful response?\n",
      "==================================================\n",
      "[]\n"
     ]
    }
   ],
   "source": [
    "current_question = \"What is Data Science? List the di􀃠erences between supervised and unsupervised learning.\"\n",
    "expl, results = md.question_explanation(current_question,embeddings)\n",
    "print(expl)\n",
    "print(\"=\"*50)\n",
    "print(results)"
   ]
  },
  {
   "cell_type": "code",
   "execution_count": 7,
   "metadata": {},
   "outputs": [
    {
     "name": "stdout",
     "output_type": "stream",
     "text": [
      "Deep Learning Interview Questions\n",
      "\n",
      "Before moving ahead, you may go through the recording of Data Science Interview Questions where our instructor has shared\n",
      "\n",
      "his experience and expertise that will help you to crack any Data Science.\n",
      "\n",
      "Data Science Interview Questions | Edureka\n",
      "\n",
      "Data Science Interview Questions | Data Science Tutorial | Data Science I Data Science Interview Questions | Data Science Tutorial | Data Science I\n",
      "\n",
      "BASIC DATA SCIENCE INTERVIEW QUESTIONS\n",
      "\n",
      "Q1. What is Data Science? List the di\u0000erences between supervised and unsupervised learning.\n",
      "\n",
      "Data Science is a blend of various tools, algorithms, and machine learning principles with the goal to discover hidden patterns\n",
      "\n",
      "from the raw data. How is this di\u0000erent from what statisticians have been doing for years?\n",
      "\n",
      "The answer lies in the di\u0000erence between explaining and predicting.\n",
      "\n",
      "The di\u0000erences between supervised and unsupervised learning are as follows;\n",
      "\n",
      "---\n",
      "\n",
      "BASIC DATA SCIENCE INTERVIEW QUESTIONS\n",
      "\n",
      "Q1. What is Data Science? List the di\u0000erences between supervised and unsupervised learning.\n",
      "\n",
      "Data Science is a blend of various tools, algorithms, and machine learning principles with the goal to discover hidden patterns\n",
      "\n",
      "from the raw data. How is this di\u0000erent from what statisticians have been doing for years?\n",
      "\n",
      "The answer lies in the di\u0000erence between explaining and predicting.\n",
      "\n",
      "The di\u0000erences between supervised and unsupervised learning are as follows;\n",
      "\n",
      "https://www.edureka.co/blog/interview-questions/data-science-interview-questions/\n",
      "\n",
      "\n",
      "\n",
      "1/35\n",
      "\n",
      "20/4/2020\n",
      "\n",
      "100+ Data Science Interview Questions and Answers For 2020 | Edureka\n",
      "\n",
      "Supervised Learning\n",
      "\n",
      "Unsupervised Learning\n",
      "\n",
      "Input data is labelled.\n",
      "\n",
      "Input data is unlabelled.\n",
      "\n",
      "Uses a training data set.\n",
      "\n",
      "Uses the input data set.\n",
      "\n",
      "Used for prediction.\n",
      "\n",
      "Used for analysis.\n",
      "\n",
      "Enables classi\u0000cation and regression. Enables Classi\u0000cation, Density Estimation, & Dimension Reduction\n",
      "\n",
      "Q2. What is Selection Bias?\n",
      "\n",
      "---\n",
      "\n",
      "related to computational statistics. Used to devise complex models and algorithms that lend themselves to a prediction which in\n",
      "\n",
      "commercial use is known as predictive analytics. Given below, is an image representing the various domains Machine Learning\n",
      "\n",
      "lends itself to.\n",
      "\n",
      "https://www.edureka.co/blog/interview-questions/data-science-interview-questions/\n",
      "\n",
      "\n",
      "\n",
      "12/35\n",
      "\n",
      "20/4/2020\n",
      "\n",
      "100+ Data Science Interview Questions and Answers For 2020 | Edureka\n",
      "\n",
      "Q41. What is Supervised Learning?\n",
      "\n",
      "Supervised learning is the machine learning task of inferring a function from labeled training data. The training data consist of a\n",
      "\n",
      "set of training examples.\n",
      "\n",
      "Algorithms: Support Vector Machines, Regression, Naive Bayes, Decision Trees, K-nearest Neighbor Algorithm and Neural\n",
      "\n",
      "Networks\n",
      "\n",
      "E.g. If you built a fruit classi\u0000er, the labels will be “this is an orange, this is an apple and this is a banana”, based on showing the\n",
      "\n",
      "classi\u0000er examples of apples, oranges and bananas.\n",
      "\n",
      "Q42. What is Unsupervised learning?\n"
     ]
    }
   ],
   "source": [
    "current_question = \"What is Data Science? List the di􀃠erences between supervised and unsupervised learning.\"\n",
    "# chroma_db = Chroma(persist_directory=CHROMA_PATH,embedding_function=embeddings)\n",
    "results = chroma_db.similarity_search(current_question,k=3)\n",
    "context_text = \"\\n\\n---\\n\\n\".join([doc.page_content for doc in results])    \n",
    "print(context_text)"
   ]
  },
  {
   "cell_type": "code",
   "execution_count": 8,
   "metadata": {},
   "outputs": [
    {
     "data": {
      "text/plain": [
       "[Document(id='7c02c9d7-a00a-485c-b574-a03ad2c2a49a', metadata={'source': 'data\\\\text_db\\\\raw\\\\100_ds_interview_questions.pdf', 'start_index': 1060}, page_content='Deep Learning Interview Questions\\n\\nBefore moving ahead, you may go through the recording of Data Science Interview Questions where our instructor has shared\\n\\nhis experience and expertise that will help you to crack any Data Science.\\n\\nData Science Interview Questions | Edureka\\n\\nData Science Interview Questions | Data Science Tutorial | Data Science I Data Science Interview Questions | Data Science Tutorial | Data Science I\\n\\nBASIC DATA SCIENCE INTERVIEW QUESTIONS\\n\\nQ1. What is Data Science? List the di\\x00erences between supervised and unsupervised learning.\\n\\nData Science is a blend of various tools, algorithms, and machine learning principles with the goal to discover hidden patterns\\n\\nfrom the raw data. How is this di\\x00erent from what statisticians have been doing for years?\\n\\nThe answer lies in the di\\x00erence between explaining and predicting.\\n\\nThe di\\x00erences between supervised and unsupervised learning are as follows;'),\n",
       " Document(id='5599398a-51ca-43bc-bd6f-85c3870948b0', metadata={'source': 'data\\\\text_db\\\\raw\\\\100_ds_interview_questions.pdf', 'start_index': 1487}, page_content='BASIC DATA SCIENCE INTERVIEW QUESTIONS\\n\\nQ1. What is Data Science? List the di\\x00erences between supervised and unsupervised learning.\\n\\nData Science is a blend of various tools, algorithms, and machine learning principles with the goal to discover hidden patterns\\n\\nfrom the raw data. How is this di\\x00erent from what statisticians have been doing for years?\\n\\nThe answer lies in the di\\x00erence between explaining and predicting.\\n\\nThe di\\x00erences between supervised and unsupervised learning are as follows;\\n\\nhttps://www.edureka.co/blog/interview-questions/data-science-interview-questions/\\n\\n\\ue921\\n\\n1/35\\n\\n20/4/2020\\n\\n100+ Data Science Interview Questions and Answers For 2020 | Edureka\\n\\nSupervised Learning\\n\\nUnsupervised Learning\\n\\nInput data is labelled.\\n\\nInput data is unlabelled.\\n\\nUses a training data set.\\n\\nUses the input data set.\\n\\nUsed for prediction.\\n\\nUsed for analysis.\\n\\nEnables classi\\x00cation and regression. Enables Classi\\x00cation, Density Estimation, & Dimension Reduction\\n\\nQ2. What is Selection Bias?'),\n",
       " Document(id='a685dc8f-fb73-4bd7-a321-5b1e2291673e', metadata={'source': 'data\\\\text_db\\\\raw\\\\100_ds_interview_questions.pdf', 'start_index': 28021}, page_content='related to computational statistics. Used to devise complex models and algorithms that lend themselves to a prediction which in\\n\\ncommercial use is known as predictive analytics. Given below, is an image representing the various domains Machine Learning\\n\\nlends itself to.\\n\\nhttps://www.edureka.co/blog/interview-questions/data-science-interview-questions/\\n\\n\\ue921\\n\\n12/35\\n\\n20/4/2020\\n\\n100+ Data Science Interview Questions and Answers For 2020 | Edureka\\n\\nQ41. What is Supervised Learning?\\n\\nSupervised learning is the machine learning task of inferring a function from labeled training data. The training data consist of a\\n\\nset of training examples.\\n\\nAlgorithms: Support Vector Machines, Regression, Naive Bayes, Decision Trees, K-nearest Neighbor Algorithm and Neural\\n\\nNetworks\\n\\nE.g. If you built a fruit classi\\x00er, the labels will be “this is an orange, this is an apple and this is a banana”, based on showing the\\n\\nclassi\\x00er examples of apples, oranges and bananas.\\n\\nQ42. What is Unsupervised learning?')]"
      ]
     },
     "execution_count": 8,
     "metadata": {},
     "output_type": "execute_result"
    }
   ],
   "source": [
    "results"
   ]
  },
  {
   "cell_type": "code",
   "execution_count": 9,
   "metadata": {},
   "outputs": [
    {
     "name": "stdout",
     "output_type": "stream",
     "text": [
      "Reading Chroma DB...\n",
      "Searching for similar questions...\n",
      "Creating prompt...\n",
      "Making chain...\n",
      "Invoking explanation...\n",
      "Storing answer in SQL...\n",
      "According to the context, Data Science is a blend of various tools, algorithms, and machine learning principles with the goal to discover hidden patterns from the raw data. This is different from what statisticians have been doing for years, as it involves predicting rather than explaining.\n",
      "\n",
      "The differences between supervised and unsupervised learning are:\n",
      "\n",
      "* Supervised Learning:\n",
      "\t+ Input data is labelled.\n",
      "\t+ Uses a training data set.\n",
      "\t+ Used for prediction.\n",
      "\t+ Enables classification and regression.\n",
      "* Unsupervised Learning:\n",
      "\t+ Input data is unlabelled.\n",
      "\t+ Uses the input data set.\n",
      "\t+ Used for analysis.\n",
      "\t+ Enables classification, density estimation, and dimension reduction.\n",
      "==================================================\n",
      "[Document(id='7c02c9d7-a00a-485c-b574-a03ad2c2a49a', metadata={'source': 'data\\\\text_db\\\\raw\\\\100_ds_interview_questions.pdf', 'start_index': 1060}, page_content='Deep Learning Interview Questions\\n\\nBefore moving ahead, you may go through the recording of Data Science Interview Questions where our instructor has shared\\n\\nhis experience and expertise that will help you to crack any Data Science.\\n\\nData Science Interview Questions | Edureka\\n\\nData Science Interview Questions | Data Science Tutorial | Data Science I Data Science Interview Questions | Data Science Tutorial | Data Science I\\n\\nBASIC DATA SCIENCE INTERVIEW QUESTIONS\\n\\nQ1. What is Data Science? List the di\\x00erences between supervised and unsupervised learning.\\n\\nData Science is a blend of various tools, algorithms, and machine learning principles with the goal to discover hidden patterns\\n\\nfrom the raw data. How is this di\\x00erent from what statisticians have been doing for years?\\n\\nThe answer lies in the di\\x00erence between explaining and predicting.\\n\\nThe di\\x00erences between supervised and unsupervised learning are as follows;'), Document(id='5599398a-51ca-43bc-bd6f-85c3870948b0', metadata={'source': 'data\\\\text_db\\\\raw\\\\100_ds_interview_questions.pdf', 'start_index': 1487}, page_content='BASIC DATA SCIENCE INTERVIEW QUESTIONS\\n\\nQ1. What is Data Science? List the di\\x00erences between supervised and unsupervised learning.\\n\\nData Science is a blend of various tools, algorithms, and machine learning principles with the goal to discover hidden patterns\\n\\nfrom the raw data. How is this di\\x00erent from what statisticians have been doing for years?\\n\\nThe answer lies in the di\\x00erence between explaining and predicting.\\n\\nThe di\\x00erences between supervised and unsupervised learning are as follows;\\n\\nhttps://www.edureka.co/blog/interview-questions/data-science-interview-questions/\\n\\n\\ue921\\n\\n1/35\\n\\n20/4/2020\\n\\n100+ Data Science Interview Questions and Answers For 2020 | Edureka\\n\\nSupervised Learning\\n\\nUnsupervised Learning\\n\\nInput data is labelled.\\n\\nInput data is unlabelled.\\n\\nUses a training data set.\\n\\nUses the input data set.\\n\\nUsed for prediction.\\n\\nUsed for analysis.\\n\\nEnables classi\\x00cation and regression. Enables Classi\\x00cation, Density Estimation, & Dimension Reduction\\n\\nQ2. What is Selection Bias?'), Document(id='a685dc8f-fb73-4bd7-a321-5b1e2291673e', metadata={'source': 'data\\\\text_db\\\\raw\\\\100_ds_interview_questions.pdf', 'start_index': 28021}, page_content='related to computational statistics. Used to devise complex models and algorithms that lend themselves to a prediction which in\\n\\ncommercial use is known as predictive analytics. Given below, is an image representing the various domains Machine Learning\\n\\nlends itself to.\\n\\nhttps://www.edureka.co/blog/interview-questions/data-science-interview-questions/\\n\\n\\ue921\\n\\n12/35\\n\\n20/4/2020\\n\\n100+ Data Science Interview Questions and Answers For 2020 | Edureka\\n\\nQ41. What is Supervised Learning?\\n\\nSupervised learning is the machine learning task of inferring a function from labeled training data. The training data consist of a\\n\\nset of training examples.\\n\\nAlgorithms: Support Vector Machines, Regression, Naive Bayes, Decision Trees, K-nearest Neighbor Algorithm and Neural\\n\\nNetworks\\n\\nE.g. If you built a fruit classi\\x00er, the labels will be “this is an orange, this is an apple and this is a banana”, based on showing the\\n\\nclassi\\x00er examples of apples, oranges and bananas.\\n\\nQ42. What is Unsupervised learning?')]\n"
     ]
    }
   ],
   "source": [
    "expl, results = md.question_explanation(current_question,embeddings)\n",
    "print(expl)\n",
    "print(\"=\"*50)\n",
    "print(results)"
   ]
  },
  {
   "cell_type": "code",
   "execution_count": 1,
   "metadata": {},
   "outputs": [
    {
     "name": "stderr",
     "output_type": "stream",
     "text": [
      "c:\\Users\\raulg\\AppData\\Local\\Programs\\Python\\Python312\\Lib\\site-packages\\tqdm\\auto.py:21: TqdmWarning: IProgress not found. Please update jupyter and ipywidgets. See https://ipywidgets.readthedocs.io/en/stable/user_install.html\n",
      "  from .autonotebook import tqdm as notebook_tqdm\n"
     ]
    },
    {
     "name": "stdout",
     "output_type": "stream",
     "text": [
      "WARNING:tensorflow:From c:\\Users\\raulg\\AppData\\Local\\Programs\\Python\\Python312\\Lib\\site-packages\\tf_keras\\src\\losses.py:2976: The name tf.losses.sparse_softmax_cross_entropy is deprecated. Please use tf.compat.v1.losses.sparse_softmax_cross_entropy instead.\n",
      "\n",
      "Reading Chroma DB...\n",
      "Searching for similar questions...\n",
      "Error during similarity search: Embedding dimension 384 does not match collection dimensionality 768\n",
      "None\n"
     ]
    }
   ],
   "source": [
    "import model as md\n",
    "from langchain_huggingface import HuggingFaceEmbeddings\n",
    "from langchain_chroma import Chroma # from langchain_chroma import Chroma ### This MUST go here. For some reason it doesn't detect the chroma_db if it isn't inside the function.\n",
    "\n",
    "embeddings = HuggingFaceEmbeddings(model_name=\"sentence-transformers/all-mpnet-base-v2\")\n",
    "current_question = \"What is an example of a dataset with a non-Gaussian distribution?\"\n",
    "expl= md.question_explanation(current_question,embeddings)\n",
    "print(expl)"
   ]
  },
  {
   "cell_type": "code",
   "execution_count": 7,
   "metadata": {},
   "outputs": [
    {
     "name": "stdout",
     "output_type": "stream",
     "text": [
      "Results: [Document(id='bc84ff43-7f9a-4506-bd96-50d0b39cb268', metadata={'source': 'data\\\\text_db\\\\raw\\\\ds_interview_questions.pdf', 'start_index': 15519}, page_content='What is very important is that the Normal distri-\\n\\ndata is handling missing values. These are repre-\\n\\nbution is symmetrical around its mean, with a con-\\n\\nsented by NA in R. Impossible values (division by 0,\\n\\ncentration of observations around the mean. More-\\n\\nfor example) are represented by NAN (not a number).\\n\\nover, its mean, median and mode are the same.\\n\\nFinally, you should get an extra point if you mention\\n\\nthat 95% of the data points from a Normal distribu-\\n\\ntion are located within 2 standard deviations from\\n\\nthe mean, and 99.7% of the data points are located\\n\\nwithin 3 standard deviations from the mean.\\n\\n9. What is an example of a non-Gaussian distribution? First, it may make sense to research what is a\\n\\ndataset with a\\n\\nNow, you may be also expected to give an exam-\\n\\nGaussian distribution. In fact, it is also known as ‘Nor-\\n\\nple.\\n\\nmal distribution’ or ‘The Bell Curve’. For further infor-\\n\\nSince many biological phenomena are normally'), Document(id='1c90d990-fcb6-46e7-8827-5ee360a1df2e', metadata={'source': 'data\\\\text_db\\\\raw\\\\ds_interview_questions.pdf', 'start_index': 15986}, page_content='tion are located within 2 standard deviations from\\n\\nthe mean, and 99.7% of the data points are located\\n\\nwithin 3 standard deviations from the mean.\\n\\n9. What is an example of a non-Gaussian distribution? First, it may make sense to research what is a\\n\\ndataset with a\\n\\nNow, you may be also expected to give an exam-\\n\\nGaussian distribution. In fact, it is also known as ‘Nor-\\n\\nple.\\n\\nmal distribution’ or ‘The Bell Curve’. For further infor-\\n\\nSince many biological phenomena are normally\\n\\nmation, please refer to the question ‘What’s Normal\\n\\ndistributed it is going to be the easiest to turn to a bi-\\n\\nDistribution?’\\n\\nological example. Try to showcase all facts that you\\n\\nOnce you are sure that you know what a Gaussi-\\n\\njust mentioned about a Normal distribution.\\n\\nan distribution is, we can proceed to the question at\\n\\nLet focus on the height of people. You know a few\\n\\nhand.\\n\\npeople that are very short and a few people that are\\n\\nWe established that for a distribution to be'), Document(id='a3d124f8-926f-47b8-a590-ddae31953797', metadata={'source': 'data\\\\text_db\\\\raw\\\\ds_interview_questions.pdf', 'start_index': 16471}, page_content='mation, please refer to the question ‘What’s Normal\\n\\ndistributed it is going to be the easiest to turn to a bi-\\n\\nDistribution?’\\n\\nological example. Try to showcase all facts that you\\n\\nOnce you are sure that you know what a Gaussi-\\n\\njust mentioned about a Normal distribution.\\n\\nan distribution is, we can proceed to the question at\\n\\nLet focus on the height of people. You know a few\\n\\nhand.\\n\\npeople that are very short and a few people that are\\n\\nWe established that for a distribution to be\\n\\nvery tall. You also know a bit more people that are\\n\\nnon-Gaussian, it shouldn’t follow the normal distri-\\n\\nshort but not too short, and approximately an equal\\n\\nbution. One of the main characteristics of the normal\\n\\namount that are tall, but not too tall. Most of your\\n\\ndistribution is that it is symmetric around the mean,\\n\\nacquaintances, though have a very similar height,\\n\\nthe median and the mode, which all fall on one point.\\n\\ncentered around the mean height of all the people'), Document(id='5f3e9d4d-0d43-40ab-a44c-938603b5b824', metadata={'source': 'data\\\\text_db\\\\raw\\\\ds_interview_questions.pdf', 'start_index': 16960}, page_content='very tall. You also know a bit more people that are\\n\\nnon-Gaussian, it shouldn’t follow the normal distri-\\n\\nshort but not too short, and approximately an equal\\n\\nbution. One of the main characteristics of the normal\\n\\namount that are tall, but not too tall. Most of your\\n\\ndistribution is that it is symmetric around the mean,\\n\\nacquaintances, though have a very similar height,\\n\\nthe median and the mode, which all fall on one point.\\n\\ncentered around the mean height of all the people\\n\\nTherefore, all we have to do is to select a distribu-\\n\\nin your area or country. There are some differences\\n\\ntion, which is not symmetrical, and we will have our\\n\\nwhich are mainly geographical, but the overall pat-\\n\\ncounterexample.\\n\\ntern is such.\\n\\n10\\n\\nDATA SCIENTIST INTERVIEW QUESTIONS / GENERAL DATA SCIENTIST INTERVIEW QUESTIONS\\n\\nOne of the popular non-Gaussian instances is the\\n\\ndistribution of the household income in the USA .\\n\\nYou can see where the 50th percent line is, but'), Document(id='9421432c-87df-45af-9d7c-2ed19429809e', metadata={'source': 'data\\\\text_db\\\\raw\\\\ds_interview_questions.pdf', 'start_index': 17441}, page_content='Therefore, all we have to do is to select a distribu-\\n\\nin your area or country. There are some differences\\n\\ntion, which is not symmetrical, and we will have our\\n\\nwhich are mainly geographical, but the overall pat-\\n\\ncounterexample.\\n\\ntern is such.\\n\\n10\\n\\nDATA SCIENTIST INTERVIEW QUESTIONS / GENERAL DATA SCIENTIST INTERVIEW QUESTIONS\\n\\nOne of the popular non-Gaussian instances is the\\n\\ndistribution of the household income in the USA .\\n\\nYou can see where the 50th percent line is, but\\n\\nthat is not where the mean is. While the graph is\\n\\nfrom 2014, this pattern of inequality still persists and\\n\\neven deepens in the United States. As such, house-\\n\\nhold income in the US is one of the most commonly\\n\\nquoted non-Gaussian distributions in the world.\\n\\n11\\n\\nDATA SCIENTIST INTERVIEW QUESTIONS / GENERAL DATA SCIENTIST INTERVIEW QUESTIONS\\n\\n10. R has several packages for problem.\\n\\nThere is one subtle difference, though.\\n\\nSay the range of values we’ve got is in the interval')]\n"
     ]
    }
   ],
   "source": [
    "from langchain_chroma import Chroma\n",
    "from langchain_huggingface import HuggingFaceEmbeddings\n",
    "\n",
    "CHROMA_PATH = \"data/text_db/chroma\"\n",
    "embed_model = HuggingFaceEmbeddings(model_name=\"sentence-transformers/all-mpnet-base-v2\")\n",
    "us_quest = \"What is an example of a dataset with a non-Gaussian distribution?\"\n",
    "try:\n",
    "    chroma_db = Chroma(persist_directory=CHROMA_PATH, embedding_function=embeddings)\n",
    "    results = chroma_db.similarity_search(us_quest, k=5)\n",
    "    print(\"Results:\", results)\n",
    "except Exception as e:\n",
    "    print(\"Test failed:\", e)"
   ]
  },
  {
   "cell_type": "markdown",
   "metadata": {},
   "source": [
    "# Pruebas 22/01"
   ]
  },
  {
   "cell_type": "code",
   "execution_count": 1,
   "metadata": {},
   "outputs": [
    {
     "name": "stderr",
     "output_type": "stream",
     "text": [
      "c:\\Users\\raulg\\AppData\\Local\\Programs\\Python\\Python312\\Lib\\site-packages\\tqdm\\auto.py:21: TqdmWarning: IProgress not found. Please update jupyter and ipywidgets. See https://ipywidgets.readthedocs.io/en/stable/user_install.html\n",
      "  from .autonotebook import tqdm as notebook_tqdm\n"
     ]
    },
    {
     "name": "stdout",
     "output_type": "stream",
     "text": [
      "WARNING:tensorflow:From c:\\Users\\raulg\\AppData\\Local\\Programs\\Python\\Python312\\Lib\\site-packages\\tf_keras\\src\\losses.py:2976: The name tf.losses.sparse_softmax_cross_entropy is deprecated. Please use tf.compat.v1.losses.sparse_softmax_cross_entropy instead.\n",
      "\n"
     ]
    }
   ],
   "source": [
    "from model import question_explanation\n",
    "from langchain_huggingface import HuggingFaceEmbeddings\n",
    "embeddings = HuggingFaceEmbeddings(model_name=\"sentence-transformers/all-mpnet-base-v2\")\n",
    "us_quest = \"What is an example of a dataset with a non-Gaussian distribution?\"\n",
    "expl, res = question_explanation(embeddings,us_quest)\n",
    "print(expl)"
   ]
  },
  {
   "cell_type": "code",
   "execution_count": 1,
   "metadata": {},
   "outputs": [
    {
     "name": "stderr",
     "output_type": "stream",
     "text": [
      "c:\\Users\\raulg\\AppData\\Local\\Programs\\Python\\Python312\\Lib\\site-packages\\tqdm\\auto.py:21: TqdmWarning: IProgress not found. Please update jupyter and ipywidgets. See https://ipywidgets.readthedocs.io/en/stable/user_install.html\n",
      "  from .autonotebook import tqdm as notebook_tqdm\n"
     ]
    },
    {
     "name": "stdout",
     "output_type": "stream",
     "text": [
      "WARNING:tensorflow:From c:\\Users\\raulg\\AppData\\Local\\Programs\\Python\\Python312\\Lib\\site-packages\\tf_keras\\src\\losses.py:2976: The name tf.losses.sparse_softmax_cross_entropy is deprecated. Please use tf.compat.v1.losses.sparse_softmax_cross_entropy instead.\n",
      "\n"
     ]
    }
   ],
   "source": [
    "### I try to create the vectorstore following this page: https://python.langchain.com/docs/integrations/vectorstores/chroma/#add-items-to-vector-store\n",
    "from langchain_huggingface import HuggingFaceEmbeddings\n",
    "from langchain_chroma import Chroma\n",
    "import model as md\n",
    "\n",
    "CHROMA_PATH = \"./data/text_db/chroma\"\n",
    "embeddings = HuggingFaceEmbeddings(model_name=\"sentence-transformers/all-mpnet-base-v2\")"
   ]
  },
  {
   "cell_type": "code",
   "execution_count": 1,
   "metadata": {},
   "outputs": [
    {
     "name": "stderr",
     "output_type": "stream",
     "text": [
      "c:\\Users\\raulg\\AppData\\Local\\Programs\\Python\\Python312\\Lib\\site-packages\\tqdm\\auto.py:21: TqdmWarning: IProgress not found. Please update jupyter and ipywidgets. See https://ipywidgets.readthedocs.io/en/stable/user_install.html\n",
      "  from .autonotebook import tqdm as notebook_tqdm\n"
     ]
    },
    {
     "name": "stdout",
     "output_type": "stream",
     "text": [
      "WARNING:tensorflow:From c:\\Users\\raulg\\AppData\\Local\\Programs\\Python\\Python312\\Lib\\site-packages\\tf_keras\\src\\losses.py:2976: The name tf.losses.sparse_softmax_cross_entropy is deprecated. Please use tf.compat.v1.losses.sparse_softmax_cross_entropy instead.\n",
      "\n"
     ]
    },
    {
     "data": {
      "text/plain": [
       "[Document(id='70e38d36-1af4-4859-8da1-d22c79f59cdb', metadata={'source': 'data\\\\text_db\\\\raw\\\\ds_interview_questions.pdf'}, page_content='which are mainly geographical, but the overall pat-\\n\\ncounterexample.\\n\\ntern is such.\\n\\n10\\n\\nDATA SCIENTIST INTERVIEW QUESTIONS / GENERAL DATA SCIENTIST INTERVIEW QUESTIONS\\n\\nOne of the popular non-Gaussian instances is the\\n\\ndistribution of the household income in the USA .'),\n",
       " Document(id='e5ee66a6-abce-4193-bbab-2eeffe052ff3', metadata={'source': 'data\\\\text_db\\\\raw\\\\ds_interview_questions.pdf'}, page_content='tion are located within 2 standard deviations from\\n\\nthe mean, and 99.7% of the data points are located\\n\\nwithin 3 standard deviations from the mean.\\n\\n9. What is an example of a non-Gaussian distribution? First, it may make sense to research what is a\\n\\ndataset with a'),\n",
       " Document(id='4cbde9d0-3fe9-46d7-b60a-2436497e0c81', metadata={'source': 'data\\\\text_db\\\\raw\\\\ds_interview_questions.pdf'}, page_content='distributed it is going to be the easiest to turn to a bi-\\n\\nDistribution?’\\n\\nological example. Try to showcase all facts that you\\n\\nOnce you are sure that you know what a Gaussi-\\n\\njust mentioned about a Normal distribution.\\n\\nan distribution is, we can proceed to the question at')]"
      ]
     },
     "execution_count": 1,
     "metadata": {},
     "output_type": "execute_result"
    }
   ],
   "source": [
    "### Creation of Chroma DB and addition of docs\n",
    "chunks = md.load_split_documents()\n",
    "vector_store = Chroma(collection_name=\"doc_library\", embedding_function=embeddings, persist_directory=CHROMA_PATH)\n",
    "vector_store.add_documents(documents=chunks)\n",
    "results = vector_store.similarity_search(\"What is an example of a dataset with a non-Gaussian distribution?\", k=3)\n",
    "results"
   ]
  },
  {
   "cell_type": "code",
   "execution_count": 2,
   "metadata": {},
   "outputs": [
    {
     "data": {
      "text/plain": [
       "[Document(id='cd43753c-7fa3-4417-9e57-9bbafb6e9d4f', metadata={'source': 'data\\\\text_db\\\\raw\\\\100_ds_interview_questions.pdf'}, page_content='Data Science is a blend of various tools, algorithms, and machine learning principles with the goal to discover hidden patterns\\n\\nfrom the raw data. How is this di\\x00erent from what statisticians have been doing for years?\\n\\nThe answer lies in the di\\x00erence between explaining and predicting.'),\n",
       " Document(id='1dfdac74-167f-42db-aee4-7daff226045a', metadata={'source': 'data\\\\text_db\\\\raw\\\\ds_interview_questions.pdf'}, page_content='‘If we think about data science as a field, we can\\n\\nming and often does not require statistical knowledge.\\n\\nidentify several pillars it is built upon: Mathematics,\\n\\nThat’s why data engineers and data architects exist.\\n\\nProbability, Statistics, Economics, Programming, Data'),\n",
       " Document(id='44895806-f35f-4be7-a8f4-278c8709d49d', metadata={'source': 'data\\\\text_db\\\\raw\\\\ds_interview_questions.pdf'}, page_content='The 365 Data Science Program offers a complete data science training taught by expert instructors with a fun, interactive, and beginner-friendly ap- proach. The courses start with the fundamentals, cover in-demand program- ming languages like Python, R, and SQL, visualization tools like Power BI')]"
      ]
     },
     "execution_count": 2,
     "metadata": {},
     "output_type": "execute_result"
    }
   ],
   "source": [
    "vector_store = Chroma(collection_name=\"doc_library\", embedding_function=embeddings, persist_directory=CHROMA_PATH)\n",
    "results = vector_store.similarity_search(\"What is Data Science\", k=3)\n",
    "results"
   ]
  },
  {
   "cell_type": "code",
   "execution_count": 1,
   "metadata": {},
   "outputs": [
    {
     "name": "stderr",
     "output_type": "stream",
     "text": [
      "c:\\Users\\raulg\\AppData\\Local\\Programs\\Python\\Python312\\Lib\\site-packages\\tqdm\\auto.py:21: TqdmWarning: IProgress not found. Please update jupyter and ipywidgets. See https://ipywidgets.readthedocs.io/en/stable/user_install.html\n",
      "  from .autonotebook import tqdm as notebook_tqdm\n"
     ]
    },
    {
     "name": "stdout",
     "output_type": "stream",
     "text": [
      "WARNING:tensorflow:From c:\\Users\\raulg\\AppData\\Local\\Programs\\Python\\Python312\\Lib\\site-packages\\tf_keras\\src\\losses.py:2976: The name tf.losses.sparse_softmax_cross_entropy is deprecated. Please use tf.compat.v1.losses.sparse_softmax_cross_entropy instead.\n",
      "\n",
      "Loading documents...\n",
      "Searching for similar questions...\n"
     ]
    },
    {
     "ename": "",
     "evalue": "",
     "output_type": "error",
     "traceback": [
      "\u001b[1;31mThe Kernel crashed while executing code in the current cell or a previous cell. \n",
      "\u001b[1;31mPlease review the code in the cell(s) to identify a possible cause of the failure. \n",
      "\u001b[1;31mClick <a href='https://aka.ms/vscodeJupyterKernelCrash'>here</a> for more info. \n",
      "\u001b[1;31mView Jupyter <a href='command:jupyter.viewOutput'>log</a> for further details."
     ]
    }
   ],
   "source": [
    "from model import question_explanation\n",
    "from langchain_huggingface import HuggingFaceEmbeddings\n",
    "embeddings = HuggingFaceEmbeddings(model_name=\"sentence-transformers/all-mpnet-base-v2\")\n",
    "us_quest = \"What is an example of a dataset with a non-Gaussian distribution?\"\n",
    "expl, res = question_explanation(embeddings,us_quest)\n",
    "print(expl)"
   ]
  },
  {
   "cell_type": "code",
   "execution_count": null,
   "metadata": {},
   "outputs": [
    {
     "name": "stderr",
     "output_type": "stream",
     "text": [
      "c:\\Users\\raulg\\AppData\\Local\\Programs\\Python\\Python312\\Lib\\site-packages\\tqdm\\auto.py:21: TqdmWarning: IProgress not found. Please update jupyter and ipywidgets. See https://ipywidgets.readthedocs.io/en/stable/user_install.html\n",
      "  from .autonotebook import tqdm as notebook_tqdm\n"
     ]
    },
    {
     "name": "stdout",
     "output_type": "stream",
     "text": [
      "WARNING:tensorflow:From c:\\Users\\raulg\\AppData\\Local\\Programs\\Python\\Python312\\Lib\\site-packages\\tf_keras\\src\\losses.py:2976: The name tf.losses.sparse_softmax_cross_entropy is deprecated. Please use tf.compat.v1.losses.sparse_softmax_cross_entropy instead.\n",
      "\n"
     ]
    },
    {
     "ename": "NameError",
     "evalue": "name 'ChatGroq' is not defined",
     "output_type": "error",
     "traceback": [
      "\u001b[1;31m---------------------------------------------------------------------------\u001b[0m",
      "\u001b[1;31mNameError\u001b[0m                                 Traceback (most recent call last)",
      "Cell \u001b[1;32mIn[1], line 14\u001b[0m\n\u001b[0;32m     12\u001b[0m load_dotenv(override\u001b[38;5;241m=\u001b[39m\u001b[38;5;28;01mTrue\u001b[39;00m)\n\u001b[0;32m     13\u001b[0m groq_api_key \u001b[38;5;241m=\u001b[39m os\u001b[38;5;241m.\u001b[39mgetenv(\u001b[38;5;124m\"\u001b[39m\u001b[38;5;124mGROQ_API_KEY\u001b[39m\u001b[38;5;124m\"\u001b[39m)\n\u001b[1;32m---> 14\u001b[0m model \u001b[38;5;241m=\u001b[39m \u001b[43mChatGroq\u001b[49m(model\u001b[38;5;241m=\u001b[39m\u001b[38;5;124m\"\u001b[39m\u001b[38;5;124mllama3-8b-8192\u001b[39m\u001b[38;5;124m\"\u001b[39m)\n\u001b[0;32m     18\u001b[0m \u001b[38;5;28;01mdef\u001b[39;00m \u001b[38;5;21mquestion_explanation\u001b[39m(embeddings, current_question):\n\u001b[0;32m     19\u001b[0m     \u001b[38;5;28mprint\u001b[39m(\u001b[38;5;124m\"\u001b[39m\u001b[38;5;124mLoading documents...\u001b[39m\u001b[38;5;124m\"\u001b[39m)\n",
      "\u001b[1;31mNameError\u001b[0m: name 'ChatGroq' is not defined"
     ]
    }
   ],
   "source": [
    "from langchain_chroma import Chroma\n",
    "from langchain_core.prompts import ChatPromptTemplate\n",
    "from langchain_huggingface import HuggingFaceEmbeddings\n",
    "from langchain_groq import ChatGroq\n",
    "from dotenv import load_dotenv\n",
    "import os\n",
    "\n",
    "CHROMA_PATH = \"./data/text_db/chroma\"\n",
    "embeddings = HuggingFaceEmbeddings(model_name=\"sentence-transformers/all-mpnet-base-v2\")\n",
    "us_quest = \"What is an example of a dataset with a non-Gaussian distribution?\"\n",
    "\n",
    "\n",
    "load_dotenv(override=True)\n",
    "groq_api_key = os.getenv(\"GROQ_API_KEY\")\n",
    "model = ChatGroq(model=\"llama3-8b-8192\")\n",
    "\n",
    "\n",
    "\n",
    "def question_explanation(embeddings, current_question):\n",
    "    print(\"Loading documents...\")\n",
    "    vector_store = Chroma(collection_name=\"doc_library\", embedding_function=embeddings, persist_directory=CHROMA_PATH)\n",
    "    print(\"Searching for similar questions...\")\n",
    "    results = vector_store.similarity_search(current_question, k=3)\n",
    "    print(\"Creating prompt and invoking model...\")\n",
    "    prompt_template = ChatPromptTemplate.from_template(\"\"\"\n",
    "    Answer the question based only on the following context:\n",
    "\n",
    "    {context}\n",
    "\n",
    "    ---\n",
    "\n",
    "    Answer the question based on the above context: {question}\n",
    "    \"\"\")\n",
    "    prompt = prompt_template.format(context=results, question=current_question)\n",
    "    response = model.invoke(prompt)\n",
    "    return response, results"
   ]
  },
  {
   "cell_type": "code",
   "execution_count": null,
   "metadata": {},
   "outputs": [
    {
     "name": "stdout",
     "output_type": "stream",
     "text": [
      "Loading documents...\n",
      "Searching for similar questions...\n",
      "Creating prompt and invoking model...\n"
     ]
    },
    {
     "ename": "NameError",
     "evalue": "name 'model' is not defined",
     "output_type": "error",
     "traceback": [
      "\u001b[1;31m---------------------------------------------------------------------------\u001b[0m",
      "\u001b[1;31mNameError\u001b[0m                                 Traceback (most recent call last)",
      "Cell \u001b[1;32mIn[2], line 1\u001b[0m\n\u001b[1;32m----> 1\u001b[0m expl, res \u001b[38;5;241m=\u001b[39m \u001b[43mquestion_explanation\u001b[49m\u001b[43m(\u001b[49m\u001b[43membeddings\u001b[49m\u001b[43m,\u001b[49m\u001b[43mus_quest\u001b[49m\u001b[43m)\u001b[49m\n\u001b[0;32m      2\u001b[0m \u001b[38;5;28mprint\u001b[39m(expl)\n",
      "Cell \u001b[1;32mIn[1], line 24\u001b[0m, in \u001b[0;36mquestion_explanation\u001b[1;34m(embeddings, current_question)\u001b[0m\n\u001b[0;32m     14\u001b[0m prompt_template \u001b[38;5;241m=\u001b[39m ChatPromptTemplate\u001b[38;5;241m.\u001b[39mfrom_template(\u001b[38;5;124m\"\"\"\u001b[39m\n\u001b[0;32m     15\u001b[0m \u001b[38;5;124mAnswer the question based only on the following context:\u001b[39m\n\u001b[0;32m     16\u001b[0m \n\u001b[1;32m   (...)\u001b[0m\n\u001b[0;32m     21\u001b[0m \u001b[38;5;124mAnswer the question based on the above context: \u001b[39m\u001b[38;5;132;01m{question}\u001b[39;00m\n\u001b[0;32m     22\u001b[0m \u001b[38;5;124m\u001b[39m\u001b[38;5;124m\"\"\"\u001b[39m)\n\u001b[0;32m     23\u001b[0m prompt \u001b[38;5;241m=\u001b[39m prompt_template\u001b[38;5;241m.\u001b[39mformat(context\u001b[38;5;241m=\u001b[39mresults, question\u001b[38;5;241m=\u001b[39mcurrent_question)\n\u001b[1;32m---> 24\u001b[0m response \u001b[38;5;241m=\u001b[39m \u001b[43mmodel\u001b[49m\u001b[38;5;241m.\u001b[39minvoke(prompt)\n\u001b[0;32m     25\u001b[0m \u001b[38;5;28;01mreturn\u001b[39;00m response, results\n",
      "\u001b[1;31mNameError\u001b[0m: name 'model' is not defined"
     ]
    }
   ],
   "source": [
    "expl, res = question_explanation(embeddings,us_quest)\n",
    "print(expl)"
   ]
  }
 ],
 "metadata": {
  "kernelspec": {
   "display_name": "Python 3",
   "language": "python",
   "name": "python3"
  },
  "language_info": {
   "codemirror_mode": {
    "name": "ipython",
    "version": 3
   },
   "file_extension": ".py",
   "mimetype": "text/x-python",
   "name": "python",
   "nbconvert_exporter": "python",
   "pygments_lexer": "ipython3",
   "version": "3.12.5"
  }
 },
 "nbformat": 4,
 "nbformat_minor": 2
}
