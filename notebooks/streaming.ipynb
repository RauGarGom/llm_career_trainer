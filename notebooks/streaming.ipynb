{
 "cells": [
  {
   "cell_type": "code",
   "execution_count": 1,
   "metadata": {},
   "outputs": [
    {
     "name": "stderr",
     "output_type": "stream",
     "text": [
      "c:\\Users\\raulg\\AppData\\Local\\Programs\\Python\\Python312\\Lib\\site-packages\\pinecone\\data\\index.py:1: TqdmWarning: IProgress not found. Please update jupyter and ipywidgets. See https://ipywidgets.readthedocs.io/en/stable/user_install.html\n",
      "  from tqdm.autonotebook import tqdm\n"
     ]
    }
   ],
   "source": [
    "import sys\n",
    "sys.path.append('..')\n",
    "from model import question_explanation_streaming as qs"
   ]
  },
  {
   "cell_type": "code",
   "execution_count": 2,
   "metadata": {},
   "outputs": [],
   "source": [
    "question = \"What's the meaning of life?\""
   ]
  },
  {
   "cell_type": "code",
   "execution_count": 3,
   "metadata": {},
   "outputs": [
    {
     "name": "stdout",
     "output_type": "stream",
     "text": [
      "The question of the meaning of life has puzzled philosophers, theologians, scientists, and thinkers for centuries. There is no one definitive answer, and it's a topic that continues to be debated and explored.\n",
      "\n",
      "From a philosophical perspective, some argue that the meaning of life is to seek happiness, fulfillment, and personal growth. Others propose that it's to find purpose and meaning through relationships, work, or contributing to society.\n",
      "\n",
      "From a scientific perspective, some theories suggest that the meaning of life is to survive and reproduce, as this is the fundamental drive of all living organisms. Others propose that the meaning of life is to seek knowledge, understanding, and connection with the universe.\n",
      "\n",
      "From a spiritual or religious perspective, many believe that the meaning of life is to fulfill a higher purpose or to achieve spiritual enlightenment. Some believe that the meaning of life is to love and serve others, while others believe it's to follow a set of moral principles or to achieve a state of oneness with a higher power.\n",
      "\n",
      "Ultimately, the meaning of life is a deeply personal and subjective question that each individual must answer for themselves. It's a question that may evolve and change over time as we grow, learn, and experience new things.\n",
      "\n",
      "So, what's the meaning of life? It's a question that may not have a definitive answer, but it's one that can inspire us to explore, learn, and grow in our own unique ways."
     ]
    }
   ],
   "source": [
    "qs(question)"
   ]
  }
 ],
 "metadata": {
  "kernelspec": {
   "display_name": "Python 3",
   "language": "python",
   "name": "python3"
  },
  "language_info": {
   "codemirror_mode": {
    "name": "ipython",
    "version": 3
   },
   "file_extension": ".py",
   "mimetype": "text/x-python",
   "name": "python",
   "nbconvert_exporter": "python",
   "pygments_lexer": "ipython3",
   "version": "3.12.5"
  }
 },
 "nbformat": 4,
 "nbformat_minor": 2
}
